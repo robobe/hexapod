{
 "cells": [
  {
   "cell_type": "code",
   "execution_count": null,
   "id": "f5ef965b-b4cc-4319-8b31-8039bcabf892",
   "metadata": {},
   "outputs": [],
   "source": [
    "import matplotlib.pyplot as plt\n",
    "import numpy as np\n",
    "import ipywidgets as w"
   ]
  },
  {
   "cell_type": "code",
   "execution_count": 31,
   "id": "d725c673-43ce-4465-a353-0cd02b81a864",
   "metadata": {},
   "outputs": [],
   "source": [
    "\n",
    "\n",
    "def update_plot(a, b):\n",
    "    x = np.linspace(-5,5,200)\n",
    "    y = a*x+b\n",
    "    plt.plot(x,y,linewidth=4)\n",
    "    plt.ylim(-5, 5)"
   ]
  },
  {
   "cell_type": "code",
   "execution_count": 33,
   "id": "665ec5d9-70dc-4a4f-89a7-b57ed694a59b",
   "metadata": {},
   "outputs": [
    {
     "data": {
      "image/png": "[encoded data removed]",
      "text/plain": [
       "<Figure size 432x288 with 1 Axes>"
      ]
     },
     "metadata": {
      "needs_background": "light"
     },
     "output_type": "display_data"
    }
   ],
   "source": [
    "update_plot(0,0)"
   ]
  },
  {
   "cell_type": "code",
   "execution_count": 36,
   "id": "5f48e7f5-6904-4f62-8159-caea1b61557a",
   "metadata": {},
   "outputs": [],
   "source": [
    "def build_ui():\n",
    "    a, b = sliders = [\n",
    "        w.FloatSlider(min=-3, max=3, description=desc)\n",
    "        for desc in 'ab']\n",
    "    controls = w.VBox(sliders)\n",
    "    plot = w.interactive_output(update_plot, {\n",
    "        \"a\": a, \"b\":b})\n",
    "    ui = w.VBox([controls, plot])\n",
    "    return ui"
   ]
  },
  {
   "cell_type": "code",
   "execution_count": 37,
   "id": "eb786d8b-a583-480f-b431-2642f81f150b",
   "metadata": {},
   "outputs": [
    {
     "data": {
      "application/vnd.jupyter.widget-view+json": {
       "model_id": "f2ae766dff7a42fd9d02cba999f41957",
       "version_major": 2,
       "version_minor": 0
      },
      "text/plain": [
       "VBox(children=(VBox(children=(FloatSlider(value=0.0, description='a', max=3.0, min=-3.0), FloatSlider(value=0.…"
      ]
     },
     "execution_count": 37,
     "metadata": {},
     "output_type": "execute_result"
    }
   ],
   "source": [
    "build_ui()"
   ]
  },
  {
   "cell_type": "code",
   "execution_count": 24,
   "id": "51cd3ddf-93c2-4e12-9fcb-1d3acd2d8559",
   "metadata": {},
   "outputs": [
    {
     "data": {
      "application/vnd.jupyter.widget-view+json": {
       "model_id": "ffd1b26f35c343f9ae38fcf00154ab86",
       "version_major": 2,
       "version_minor": 0
      },
      "text/plain": [
       "VBox(children=(FloatSlider(value=0.0, description='Slope', max=5.0, min=-5.0, step=0.5), FloatSlider(value=0.0…"
      ]
     },
     "execution_count": 24,
     "metadata": {},
     "output_type": "execute_result"
    }
   ],
   "source": [
    "m = w.FloatSlider(min=-5,max=5,step=0.5, description=\"Slope\")\n",
    "c = w.FloatSlider(min=-5,max=5,step=0.5, description=\"Intercept\")\n",
    "w.VBox([m, c])"
   ]
  },
  {
   "cell_type": "code",
   "execution_count": 40,
   "id": "02b5b4fc-7acb-498f-878a-02bf5759551b",
   "metadata": {},
   "outputs": [],
   "source": [
    "button = w.Button(description=\"Click Me!\")\n",
    "output = w.Output()\n",
    "\n",
    "display(button, output)\n",
    "\n",
    "@output.capture()\n",
    "def on_button_clicked(b):\n",
    "    print(type(b))\n",
    "    print(\"Button clicked.\")\n",
    "    b.icon=\"warning\"\n",
    "\n",
    "button.on_click(on_button_clicked)"
   ]
  },
  {
   "cell_type": "code",
   "execution_count": null,
   "id": "de98780f-b8e5-4e73-8bdb-b04014f7b4c1",
   "metadata": {},
   "outputs": [],
   "source": []
  }
 ],
 "metadata": {
  "kernelspec": {
   "display_name": "Python 3 (ipykernel)",
   "language": "python",
   "name": "python3"
  },
  "language_info": {
   "codemirror_mode": {
    "name": "ipython",
    "version": 3
   },
   "file_extension": ".py",
   "mimetype": "text/x-python",
   "name": "python",
   "nbconvert_exporter": "python",
   "pygments_lexer": "ipython3",
   "version": "3.10.12"
  }
 },
 "nbformat": 4,
 "nbformat_minor": 5
}
