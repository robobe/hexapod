{
 "cells": [
  {
   "cell_type": "code",
   "execution_count": 1,
   "id": "ed8e880d-46d6-4c05-9cd7-a8e0e5544130",
   "metadata": {},
   "outputs": [],
   "source": [
    "import ipywidgets as widgets"
   ]
  },
  {
   "cell_type": "code",
   "execution_count": 15,
   "id": "9a5b7bce-10f0-455d-8ac1-3816b0948350",
   "metadata": {},
   "outputs": [
    {
     "data": {
      "application/vnd.jupyter.widget-view+json": {
       "model_id": "a4d3e9b80a0d4274aa25e65612888c32",
       "version_major": 2,
       "version_minor": 0
      },
      "text/plain": [
       "Label(value='this is a label')"
      ]
     },
     "execution_count": 15,
     "metadata": {},
     "output_type": "execute_result"
    }
   ],
   "source": [
    "widgets.Label(value=\"this is a label\")"
   ]
  },
  {
   "cell_type": "code",
   "execution_count": 14,
   "id": "9c0e2b85-876b-47a0-8207-cd7b3c55875a",
   "metadata": {},
   "outputs": [
    {
     "data": {
      "application/vnd.jupyter.widget-view+json": {
       "model_id": "043826075a5e4506a582e455ab7817f6",
       "version_major": 2,
       "version_minor": 0
      },
      "text/plain": [
       "Text(value='Please enter text here..')"
      ]
     },
     "execution_count": 14,
     "metadata": {},
     "output_type": "execute_result"
    }
   ],
   "source": [
    "widgets.Text(value=\"Please enter text here..\")\n"
   ]
  },
  {
   "cell_type": "code",
   "execution_count": 5,
   "id": "bd1fd156-2b5d-4922-9751-2a16ea4b1b76",
   "metadata": {},
   "outputs": [
    {
     "data": {
      "application/vnd.jupyter.widget-view+json": {
       "model_id": "b3d865ad58244096bd8a7781a16e6bcb",
       "version_major": 2,
       "version_minor": 0
      },
      "text/plain": [
       "Button(description='Check', style=ButtonStyle())"
      ]
     },
     "execution_count": 5,
     "metadata": {},
     "output_type": "execute_result"
    }
   ],
   "source": [
    "widgets.Button(description=\"Check\")\n"
   ]
  },
  {
   "cell_type": "markdown",
   "id": "346fa0c2-caf9-48f7-9381-7fceac3202c7",
   "metadata": {},
   "source": [
    "---"
   ]
  },
  {
   "cell_type": "code",
   "execution_count": 4,
   "id": "d9118cc1-79aa-4000-a2cd-c6fae4f2c7cd",
   "metadata": {},
   "outputs": [
    {
     "data": {
      "application/vnd.jupyter.widget-view+json": {
       "model_id": "58a47d235c66482e94f88337c5fa9610",
       "version_major": 2,
       "version_minor": 0
      },
      "text/plain": [
       "Checkbox(value=True, description='Check')"
      ]
     },
     "execution_count": 4,
     "metadata": {},
     "output_type": "execute_result"
    }
   ],
   "source": [
    "widgets.Checkbox(value=True, description=\"Check\")\n"
   ]
  },
  {
   "cell_type": "code",
   "execution_count": 13,
   "id": "ee7f51a1-dd37-4fa4-8ac8-7b3f27b1c3b5",
   "metadata": {},
   "outputs": [
    {
     "data": {
      "application/vnd.jupyter.widget-view+json": {
       "model_id": "cb66d929b3f14e0197c7cc26fd79080b",
       "version_major": 2,
       "version_minor": 0
      },
      "text/plain": [
       "RadioButtons(description='radio', options=('a', 'b'), value='a')"
      ]
     },
     "execution_count": 13,
     "metadata": {},
     "output_type": "execute_result"
    }
   ],
   "source": [
    "widgets.RadioButtons(options=[\"a\", \"b\"], description=\"radio\")"
   ]
  },
  {
   "cell_type": "markdown",
   "id": "abc7fd39-c5f2-4035-aa96-5069657d830d",
   "metadata": {},
   "source": [
    "---"
   ]
  },
  {
   "cell_type": "code",
   "execution_count": 6,
   "id": "03c0e049-8296-4bae-a470-cd33e2c832bc",
   "metadata": {},
   "outputs": [
    {
     "data": {
      "application/vnd.jupyter.widget-view+json": {
       "model_id": "42fe818212624044aa001fbd966425c9",
       "version_major": 2,
       "version_minor": 0
      },
      "text/plain": [
       "Dropdown(description='Select Right Option', options=('A', 'B', 'C', 'D'), value='A')"
      ]
     },
     "execution_count": 6,
     "metadata": {},
     "output_type": "execute_result"
    }
   ],
   "source": [
    "widgets.Dropdown(options=[\"A\",\"B\",\"C\",\"D\"], description=\"Select Right Option\")\n"
   ]
  },
  {
   "cell_type": "code",
   "execution_count": 9,
   "id": "ec0691c6-4664-4c7b-afbd-4846b3e42f32",
   "metadata": {},
   "outputs": [
    {
     "data": {
      "application/vnd.jupyter.widget-view+json": {
       "model_id": "976e408ff8324a87b32e370c65f96282",
       "version_major": 2,
       "version_minor": 0
      },
      "text/plain": [
       "Select(description='Select Right Option', options=('A', 'B', 'C', 'D'), value='A')"
      ]
     },
     "execution_count": 9,
     "metadata": {},
     "output_type": "execute_result"
    }
   ],
   "source": [
    "widgets.Select(options=[\"A\",\"B\",\"C\",\"D\"], description=\"Select Right Option\")\n"
   ]
  },
  {
   "cell_type": "markdown",
   "id": "d214ac07-aa7b-4e0f-831f-3cbcb25fff02",
   "metadata": {},
   "source": [
    "---"
   ]
  },
  {
   "cell_type": "code",
   "execution_count": 16,
   "id": "f4084cc5-707b-4445-be72-66fb37e1013f",
   "metadata": {},
   "outputs": [
    {
     "data": {
      "application/vnd.jupyter.widget-view+json": {
       "model_id": "388d523e0fae401dba34d9046633b07a",
       "version_major": 2,
       "version_minor": 0
      },
      "text/plain": [
       "IntSlider(value=25, description='Integer Slider', max=50, min=10, step=2)"
      ]
     },
     "execution_count": 16,
     "metadata": {},
     "output_type": "execute_result"
    }
   ],
   "source": [
    "widgets.IntSlider(min=10, max=50, value=25, step=2, description=\"Integer Slider\")"
   ]
  },
  {
   "cell_type": "code",
   "execution_count": 3,
   "id": "d28f713d-8c84-426e-b909-81b2c0d2ab35",
   "metadata": {},
   "outputs": [
    {
     "data": {
      "application/vnd.jupyter.widget-view+json": {
       "model_id": "06dece11a00f4a459e278a7544a2ade9",
       "version_major": 2,
       "version_minor": 0
      },
      "text/plain": [
       "FloatSlider(value=25.0, description='Float Slider', max=50.0, min=10.0, step=2.5)"
      ]
     },
     "execution_count": 3,
     "metadata": {},
     "output_type": "execute_result"
    }
   ],
   "source": [
    "widgets.FloatSlider(min=10.0, max=50.0, value=25.0, step=2.5, description=\"Float Slider\")"
   ]
  },
  {
   "cell_type": "code",
   "execution_count": 18,
   "id": "3d83f0fd-1a9d-404d-b77f-be5439a177e1",
   "metadata": {},
   "outputs": [
    {
     "data": {
      "application/vnd.jupyter.widget-view+json": {
       "model_id": "a17efbd1bfdc4c3783ab03add4d52663",
       "version_major": 2,
       "version_minor": 0
      },
      "text/plain": [
       "IntSlider(value=25, description='Integer Slider', max=50, min=10, orientation='vertical', step=2)"
      ]
     },
     "execution_count": 18,
     "metadata": {},
     "output_type": "execute_result"
    }
   ],
   "source": [
    "widgets.IntSlider(min=10, max=50, value=25, step=2, description=\"Integer Slider\", orientation=\"vertical\")"
   ]
  },
  {
   "cell_type": "code",
   "execution_count": 19,
   "id": "121bc9c2-6011-4099-8381-759b21e9f240",
   "metadata": {},
   "outputs": [
    {
     "data": {
      "application/vnd.jupyter.widget-view+json": {
       "model_id": "04398c473b6042eab536e05eacf19da4",
       "version_major": 2,
       "version_minor": 0
      },
      "text/plain": [
       "IntSlider(value=0)"
      ]
     },
     "metadata": {},
     "output_type": "display_data"
    },
    {
     "data": {
      "application/vnd.jupyter.widget-view+json": {
       "model_id": "0f10775ada244fd79e174a9cc2b6cba0",
       "version_major": 2,
       "version_minor": 0
      },
      "text/plain": [
       "Output()"
      ]
     },
     "metadata": {},
     "output_type": "display_data"
    }
   ],
   "source": [
    "int_range = widgets.IntSlider()\n",
    "output2 = widgets.Output()\n",
    "\n",
    "display(int_range, output2)\n",
    "\n",
    "def on_value_change(change):\n",
    "    with output2:\n",
    "        print(change['new'])\n",
    "\n",
    "int_range.observe(on_value_change, names='value')"
   ]
  },
  {
   "cell_type": "code",
   "execution_count": 22,
   "id": "c3de288a-e904-4078-8687-8a1584bb1c84",
   "metadata": {},
   "outputs": [
    {
     "name": "stdout",
     "output_type": "stream",
     "text": [
      "['__annotations__', '__class__', '__del__', '__delattr__', '__dict__', '__dir__', '__doc__', '__eq__', '__format__', '__ge__', '__getattribute__', '__getstate__', '__gt__', '__hash__', '__init__', '__init_subclass__', '__le__', '__lt__', '__module__', '__ne__', '__new__', '__reduce__', '__reduce_ex__', '__repr__', '__setattr__', '__setstate__', '__sizeof__', '__str__', '__subclasshook__', '__weakref__', '_active_widgets', '_add_notifiers', '_all_trait_default_generators', '_call_widget_constructed', '_comm_changed', '_compare', '_control_comm', '_default_keys', '_descriptors', '_dom_classes', '_gen_repr_from_keys', '_get_embed_state', '_get_trait_default_generator', '_handle_control_comm_msg', '_handle_custom_msg', '_handle_msg', '_holding_sync', '_instance_inits', '_is_numpy', '_lock_property', '_log_default', '_model_module', '_model_module_version', '_model_name', '_msg_callbacks', '_notify_observers', '_notify_trait', '_property_lock', '_register_validator', '_remove_notifiers', '_repr_keys', '_repr_mimebundle_', '_send', '_should_send_property', '_states_to_send', '_static_immutable_initial_values', '_trait_default_generators', '_trait_from_json', '_trait_to_json', '_traits', '_validate_max', '_validate_min', '_validate_value', '_view_count', '_view_module', '_view_module_version', '_view_name', '_widget_construction_callback', '_widget_types', 'add_class', 'add_traits', 'behavior', 'blur', 'class_own_trait_events', 'class_own_traits', 'class_trait_names', 'class_traits', 'close', 'close_all', 'comm', 'continuous_update', 'cross_validation_lock', 'description', 'description_allow_html', 'description_tooltip', 'disabled', 'focus', 'get_interact_value', 'get_manager_state', 'get_state', 'get_view_spec', 'handle_comm_opened', 'handle_control_comm_opened', 'has_trait', 'hold_sync', 'hold_trait_notifications', 'keys', 'layout', 'log', 'max', 'min', 'model_id', 'notify_change', 'observe', 'on_msg', 'on_trait_change', 'on_widget_constructed', 'open', 'orientation', 'readout', 'readout_format', 'remove_class', 'send', 'send_state', 'set_state', 'set_trait', 'setup_instance', 'step', 'style', 'tabbable', 'tooltip', 'trait_defaults', 'trait_events', 'trait_has_value', 'trait_metadata', 'trait_names', 'trait_values', 'traits', 'unobserve', 'unobserve_all', 'value', 'widget_types', 'widgets']\n"
     ]
    }
   ],
   "source": [
    "print(dir(widgets.IntSlider))"
   ]
  },
  {
   "cell_type": "code",
   "execution_count": null,
   "id": "619f96f6-405a-4394-9f9e-fb6fefce3d35",
   "metadata": {},
   "outputs": [],
   "source": []
  }
 ],
 "metadata": {
  "kernelspec": {
   "display_name": "Python 3 (ipykernel)",
   "language": "python",
   "name": "python3"
  },
  "language_info": {
   "codemirror_mode": {
    "name": "ipython",
    "version": 3
   },
   "file_extension": ".py",
   "mimetype": "text/x-python",
   "name": "python",
   "nbconvert_exporter": "python",
   "pygments_lexer": "ipython3",
   "version": "3.10.12"
  }
 },
 "nbformat": 4,
 "nbformat_minor": 5
}
