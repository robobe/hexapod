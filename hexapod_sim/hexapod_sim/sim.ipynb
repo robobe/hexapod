{
 "cells": [
  {
   "cell_type": "code",
   "execution_count": 1,
   "metadata": {},
   "outputs": [
    {
     "data": {
      "application/vnd.jupyter.widget-view+json": {
       "model_id": "fa1327250d904e0c853bfb6976aae857",
       "version_major": 2,
       "version_minor": 0
      },
      "text/plain": [
       "interactive(children=(FloatSlider(value=0.0, description='roll', max=20.0, min=-20.0, step=1.0), FloatSlider(v…"
      ]
     },
     "metadata": {},
     "output_type": "display_data"
    }
   ],
   "source": [
    "import matplotlib.pyplot as plt\n",
    "from kinematics import kinematics\n",
    "from ipywidgets import *\n",
    "\n",
    "# make the plot larger\n",
    "plt.rcParams['figure.dpi'] = 150\n",
    "\n",
    "k = kinematics()\n",
    "\n",
    "def update(roll, pitch, yaw, x, y, z, rot_x, rot_y, rot_z):\n",
    "    k.plot_robot(xyz=[[x,y,z],[x,y,z],[x,y,z],[x,y,z]], rot=[roll,pitch,yaw], \n",
    "                 is_radians=False, center_offset=[rot_x,rot_y,rot_z])\n",
    "\n",
    "# plot the robot with the sliders for adjusting the rotation and center_offset\n",
    "interact(update,\n",
    "         roll= widgets.FloatSlider(value=0, min=-20, max=20, step=1),\n",
    "         pitch= widgets.FloatSlider(value=0, min=-20, max=20, step=1),\n",
    "         yaw= widgets.FloatSlider(value=0, min=-20, max=20, step=1),\n",
    "         x= widgets.FloatSlider(value=0, min=-0.10, max=0.10, step=0.01),\n",
    "         y= widgets.FloatSlider(value=0, min=-0.10, max=0.10, step=0.01),\n",
    "         z= widgets.FloatSlider(value=-0.15, min=-0.25, max=-0.10, step=0.01),\n",
    "         rot_x= widgets.FloatSlider(value=0, min=-0.25205/2, max=0.25205/2, step=0.01),\n",
    "         rot_y= widgets.FloatSlider(value=0, min=-0.105577/2, max=0.105577/2, step=0.01),\n",
    "         rot_z= widgets.FloatSlider(value=0, min=-0.25, max=0.25, step=0.01));"
   ]
  }
 ],
 "metadata": {
  "kernelspec": {
   "display_name": "venv",
   "language": "python",
   "name": "python3"
  },
  "language_info": {
   "codemirror_mode": {
    "name": "ipython",
    "version": 3
   },
   "file_extension": ".py",
   "mimetype": "text/x-python",
   "name": "python",
   "nbconvert_exporter": "python",
   "pygments_lexer": "ipython3",
   "version": "3.10.12"
  }
 },
 "nbformat": 4,
 "nbformat_minor": 2
}
